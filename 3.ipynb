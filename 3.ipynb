{
 "cells": [
  {
   "cell_type": "markdown",
   "metadata": {},
   "source": [
    " # Численное решение уравнение методом дихотомии\n"
   ]
  },
  {
   "cell_type": "code",
   "execution_count": 1,
   "metadata": {},
   "outputs": [],
   "source": [
    "from math import *"
   ]
  },
  {
   "cell_type": "markdown",
   "metadata": {},
   "source": [
    "Точность и параметр:"
   ]
  },
  {
   "cell_type": "code",
   "execution_count": 12,
   "metadata": {},
   "outputs": [],
   "source": [
    "Epsilon = 10 ** ( - 10 )\n",
    "\n",
    "k = 0.013 # задать произвольно"
   ]
  },
  {
   "cell_type": "markdown",
   "metadata": {},
   "source": [
    "Функция:"
   ]
  },
  {
   "cell_type": "code",
   "execution_count": 13,
   "metadata": {},
   "outputs": [],
   "source": [
    "def f ( x ):\n",
    "  \n",
    "  Function = abs ( sin ( x ) ) - k * x\n",
    "  \n",
    "  return Function"
   ]
  },
  {
   "cell_type": "markdown",
   "metadata": {},
   "source": [
    "Число корней:"
   ]
  },
  {
   "cell_type": "code",
   "execution_count": 14,
   "metadata": {},
   "outputs": [],
   "source": [
    "Amount = int ( ( 1 / k ) // ( pi / 2 ) + 1 )"
   ]
  },
  {
   "cell_type": "markdown",
   "metadata": {},
   "source": [
    "Первый корень:"
   ]
  },
  {
   "cell_type": "code",
   "execution_count": 15,
   "metadata": {},
   "outputs": [
    {
     "name": "stdout",
     "output_type": "stream",
     "text": [
      "0\n"
     ]
    }
   ],
   "source": [
    "print (0)"
   ]
  },
  {
   "cell_type": "markdown",
   "metadata": {},
   "source": [
    "Поиск остальных корней в аналитически известных интервалах:"
   ]
  },
  {
   "cell_type": "code",
   "execution_count": 16,
   "metadata": {},
   "outputs": [
    {
     "name": "stdout",
     "output_type": "stream",
     "text": [
      "3.101265275186898\n",
      "3.182983253148689\n",
      "6.202465625475128\n",
      "6.3660385693219474\n",
      "9.303535180646644\n",
      "9.549239150426075\n",
      "12.404406140848742\n",
      "12.732660526372907\n",
      "15.505007712183996\n",
      "15.916381849899476\n",
      "18.605264913974878\n",
      "19.10048736168045\n",
      "21.70509719639758\n",
      "22.28506810596535\n",
      "24.80441679424208\n",
      "25.470224003259098\n",
      "27.903126710736586\n",
      "28.656066425515085\n",
      "31.001118190813926\n",
      "31.842721478831848\n",
      "34.098267477730545\n",
      "35.03033429437467\n",
      "37.194431556889285\n",
      "38.21907477846658\n",
      "40.28944243409255\n",
      "41.409145522677704\n",
      "43.38309925013942\n",
      "44.600793001000454\n",
      "46.47515710468031\n",
      "47.79432393661101\n",
      "49.56531070765003\n",
      "50.99013013956703\n",
      "52.65316955738837\n",
      "54.188727920929196\n",
      "55.73821853986729\n",
      "57.390824179537006\n",
      "58.8197518536188\n",
      "60.59743525331355\n",
      "61.89675416949319\n",
      "63.81012145986948\n",
      "64.96766609782709\n",
      "67.03151440477602\n",
      "68.02985688958772\n",
      "70.26676515909877\n",
      "71.07817626487396\n",
      "73.52927393751337\n",
      "74.09922474110921\n"
     ]
    }
   ],
   "source": [
    "for i in range ( Amount ) :\n",
    "\n",
    "  x_left  = pi * i / 2\n",
    "  \n",
    "  x_right = pi * ( i + 1 ) / 2\n",
    "  \n",
    "  if f( x_left + Epsilon ) * f( x_right ) <   0 :\n",
    "    \n",
    "    while abs( x_right - x_left ) > Epsilon:\n",
    "    \n",
    "      if f( x_left ) * f( ( x_right + x_left ) / 2 ) < 0 :\n",
    "      \n",
    "        x_right = ( x_right + x_left ) / 2\n",
    "      \n",
    "      else:\n",
    "      \n",
    "        x_left = ( x_right + x_left ) / 2\n",
    "  \n",
    "    Answer = ( x_right + x_left ) / 2  \n",
    "      \n",
    "    print ( Answer )  "
   ]
  }
 ],
 "metadata": {
  "kernelspec": {
   "display_name": "Python 3",
   "language": "python",
   "name": "python3"
  },
  "language_info": {
   "codemirror_mode": {
    "name": "ipython",
    "version": 3
   },
   "file_extension": ".py",
   "mimetype": "text/x-python",
   "name": "python",
   "nbconvert_exporter": "python",
   "pygments_lexer": "ipython3",
   "version": "3.6.3"
  }
 },
 "nbformat": 4,
 "nbformat_minor": 2
}
